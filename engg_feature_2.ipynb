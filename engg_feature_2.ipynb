{
  "metadata": {
    "kernelspec": {
      "name": "python",
      "display_name": "Python (Pyodide)",
      "language": "python"
    },
    "language_info": {
      "codemirror_mode": {
        "name": "python",
        "version": 3
      },
      "file_extension": ".py",
      "mimetype": "text/x-python",
      "name": "python",
      "nbconvert_exporter": "python",
      "pygments_lexer": "ipython3",
      "version": "3.8"
    }
  },
  "nbformat_minor": 4,
  "nbformat": 4,
  "cells": [
    {
      "cell_type": "code",
      "source": "import pandas as pd\n\nimport numpy as np\ndf = pd.DataFrame({'Height': [150.4, 157.6, 170, 176, 164.2, 155, 159.2, 175, 162.4, 176, 153, 170.9]})\n\nprint(\"Before: \")\nprint(df)\n\ndf['Label'] = pd.cut(x=df['Height'], bins=[150, 157, 169, 180], labels=['Short', 'Average', 'Tall'])\n\nprint(\"After: \")\nprint(df)\n\nprint(\"Categories: \")\nprint(df['Label'].value_counts())",
      "metadata": {
        "trusted": true
      },
      "outputs": [],
      "execution_count": null
    }
  ]
}